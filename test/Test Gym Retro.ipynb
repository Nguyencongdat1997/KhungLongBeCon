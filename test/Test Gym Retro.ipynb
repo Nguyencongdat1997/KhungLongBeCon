{
 "cells": [
  {
   "cell_type": "markdown",
   "id": "cc011312",
   "metadata": {},
   "source": [
    "# Installization & Import"
   ]
  },
  {
   "cell_type": "code",
   "execution_count": 1,
   "id": "b81d7a86",
   "metadata": {
    "collapsed": true
   },
   "outputs": [
    {
     "name": "stdout",
     "output_type": "stream",
     "text": [
      "Requirement already satisfied: tensorflow==2.3.1 in g:\\extra_environment\\python-virtualenv\\venv\\gym\\lib\\site-packages (2.3.1)"
     ]
    },
    {
     "name": "stderr",
     "output_type": "stream",
     "text": [
      "WARNING: You are using pip version 21.1.1; however, version 21.1.2 is available.\n",
      "You should consider upgrading via the 'g:\\extra_environment\\python-virtualenv\\venv\\gym\\scripts\\python.exe -m pip install --upgrade pip' command.\n"
     ]
    },
    {
     "name": "stdout",
     "output_type": "stream",
     "text": [
      "\n",
      "Requirement already satisfied: gym in g:\\extra_environment\\python-virtualenv\\venv\\gym\\lib\\site-packages (0.18.3)\n",
      "Collecting gym-retro\n",
      "  Downloading gym_retro-0.8.0-cp37-cp37m-win_amd64.whl (152.0 MB)\n",
      "Requirement already satisfied: keras-rl2 in g:\\extra_environment\\python-virtualenv\\venv\\gym\\lib\\site-packages (1.0.5)\n",
      "Requirement already satisfied: stable-baselines3 in g:\\extra_environment\\python-virtualenv\\venv\\gym\\lib\\site-packages (1.0)\n",
      "Requirement already satisfied: absl-py>=0.7.0 in g:\\extra_environment\\python-virtualenv\\venv\\gym\\lib\\site-packages (from tensorflow==2.3.1) (0.12.0)\n",
      "Requirement already satisfied: tensorflow-estimator<2.4.0,>=2.3.0 in g:\\extra_environment\\python-virtualenv\\venv\\gym\\lib\\site-packages (from tensorflow==2.3.1) (2.3.0)\n",
      "Requirement already satisfied: termcolor>=1.1.0 in g:\\extra_environment\\python-virtualenv\\venv\\gym\\lib\\site-packages (from tensorflow==2.3.1) (1.1.0)\n",
      "Requirement already satisfied: protobuf>=3.9.2 in g:\\extra_environment\\python-virtualenv\\venv\\gym\\lib\\site-packages (from tensorflow==2.3.1) (3.17.0)\n",
      "Requirement already satisfied: tensorboard<3,>=2.3.0 in g:\\extra_environment\\python-virtualenv\\venv\\gym\\lib\\site-packages (from tensorflow==2.3.1) (2.5.0)\n",
      "Requirement already satisfied: h5py<2.11.0,>=2.10.0 in g:\\extra_environment\\python-virtualenv\\venv\\gym\\lib\\site-packages (from tensorflow==2.3.1) (2.10.0)\n",
      "Requirement already satisfied: opt-einsum>=2.3.2 in g:\\extra_environment\\python-virtualenv\\venv\\gym\\lib\\site-packages (from tensorflow==2.3.1) (3.3.0)\n",
      "Requirement already satisfied: wrapt>=1.11.1 in g:\\extra_environment\\python-virtualenv\\venv\\gym\\lib\\site-packages (from tensorflow==2.3.1) (1.12.1)\n",
      "Requirement already satisfied: wheel>=0.26 in g:\\extra_environment\\python-virtualenv\\venv\\gym\\lib\\site-packages (from tensorflow==2.3.1) (0.36.2)\n",
      "Requirement already satisfied: gast==0.3.3 in g:\\extra_environment\\python-virtualenv\\venv\\gym\\lib\\site-packages (from tensorflow==2.3.1) (0.3.3)\n",
      "Requirement already satisfied: six>=1.12.0 in g:\\extra_environment\\python-virtualenv\\venv\\gym\\lib\\site-packages (from tensorflow==2.3.1) (1.16.0)\n",
      "Requirement already satisfied: google-pasta>=0.1.8 in g:\\extra_environment\\python-virtualenv\\venv\\gym\\lib\\site-packages (from tensorflow==2.3.1) (0.2.0)\n",
      "Requirement already satisfied: grpcio>=1.8.6 in g:\\extra_environment\\python-virtualenv\\venv\\gym\\lib\\site-packages (from tensorflow==2.3.1) (1.37.1)\n",
      "Requirement already satisfied: astunparse==1.6.3 in g:\\extra_environment\\python-virtualenv\\venv\\gym\\lib\\site-packages (from tensorflow==2.3.1) (1.6.3)\n",
      "Requirement already satisfied: numpy<1.19.0,>=1.16.0 in g:\\extra_environment\\python-virtualenv\\venv\\gym\\lib\\site-packages (from tensorflow==2.3.1) (1.18.5)\n",
      "Requirement already satisfied: keras-preprocessing<1.2,>=1.1.1 in g:\\extra_environment\\python-virtualenv\\venv\\gym\\lib\\site-packages (from tensorflow==2.3.1) (1.1.2)\n",
      "Requirement already satisfied: tensorboard-data-server<0.7.0,>=0.6.0 in g:\\extra_environment\\python-virtualenv\\venv\\gym\\lib\\site-packages (from tensorboard<3,>=2.3.0->tensorflow==2.3.1) (0.6.1)\n",
      "Requirement already satisfied: google-auth-oauthlib<0.5,>=0.4.1 in g:\\extra_environment\\python-virtualenv\\venv\\gym\\lib\\site-packages (from tensorboard<3,>=2.3.0->tensorflow==2.3.1) (0.4.4)\n",
      "Requirement already satisfied: tensorboard-plugin-wit>=1.6.0 in g:\\extra_environment\\python-virtualenv\\venv\\gym\\lib\\site-packages (from tensorboard<3,>=2.3.0->tensorflow==2.3.1) (1.8.0)\n",
      "Requirement already satisfied: google-auth<2,>=1.6.3 in g:\\extra_environment\\python-virtualenv\\venv\\gym\\lib\\site-packages (from tensorboard<3,>=2.3.0->tensorflow==2.3.1) (1.30.0)\n",
      "Requirement already satisfied: setuptools>=41.0.0 in g:\\extra_environment\\python-virtualenv\\venv\\gym\\lib\\site-packages (from tensorboard<3,>=2.3.0->tensorflow==2.3.1) (56.2.0)\n",
      "Requirement already satisfied: werkzeug>=0.11.15 in g:\\extra_environment\\python-virtualenv\\venv\\gym\\lib\\site-packages (from tensorboard<3,>=2.3.0->tensorflow==2.3.1) (2.0.1)\n",
      "Requirement already satisfied: requests<3,>=2.21.0 in g:\\extra_environment\\python-virtualenv\\venv\\gym\\lib\\site-packages (from tensorboard<3,>=2.3.0->tensorflow==2.3.1) (2.25.1)\n",
      "Requirement already satisfied: markdown>=2.6.8 in g:\\extra_environment\\python-virtualenv\\venv\\gym\\lib\\site-packages (from tensorboard<3,>=2.3.0->tensorflow==2.3.1) (3.3.4)\n",
      "Requirement already satisfied: rsa<5,>=3.1.4 in g:\\extra_environment\\python-virtualenv\\venv\\gym\\lib\\site-packages (from google-auth<2,>=1.6.3->tensorboard<3,>=2.3.0->tensorflow==2.3.1) (4.7.2)\n",
      "Requirement already satisfied: pyasn1-modules>=0.2.1 in g:\\extra_environment\\python-virtualenv\\venv\\gym\\lib\\site-packages (from google-auth<2,>=1.6.3->tensorboard<3,>=2.3.0->tensorflow==2.3.1) (0.2.8)\n",
      "Requirement already satisfied: cachetools<5.0,>=2.0.0 in g:\\extra_environment\\python-virtualenv\\venv\\gym\\lib\\site-packages (from google-auth<2,>=1.6.3->tensorboard<3,>=2.3.0->tensorflow==2.3.1) (4.2.2)\n",
      "Requirement already satisfied: requests-oauthlib>=0.7.0 in g:\\extra_environment\\python-virtualenv\\venv\\gym\\lib\\site-packages (from google-auth-oauthlib<0.5,>=0.4.1->tensorboard<3,>=2.3.0->tensorflow==2.3.1) (1.3.0)\n",
      "Requirement already satisfied: importlib-metadata in g:\\extra_environment\\python-virtualenv\\venv\\gym\\lib\\site-packages (from markdown>=2.6.8->tensorboard<3,>=2.3.0->tensorflow==2.3.1) (4.0.1)\n",
      "Requirement already satisfied: pyasn1<0.5.0,>=0.4.6 in g:\\extra_environment\\python-virtualenv\\venv\\gym\\lib\\site-packages (from pyasn1-modules>=0.2.1->google-auth<2,>=1.6.3->tensorboard<3,>=2.3.0->tensorflow==2.3.1) (0.4.8)\n",
      "Requirement already satisfied: idna<3,>=2.5 in g:\\extra_environment\\python-virtualenv\\venv\\gym\\lib\\site-packages (from requests<3,>=2.21.0->tensorboard<3,>=2.3.0->tensorflow==2.3.1) (2.10)\n",
      "Requirement already satisfied: certifi>=2017.4.17 in g:\\extra_environment\\python-virtualenv\\venv\\gym\\lib\\site-packages (from requests<3,>=2.21.0->tensorboard<3,>=2.3.0->tensorflow==2.3.1) (2020.12.5)\n",
      "Requirement already satisfied: chardet<5,>=3.0.2 in g:\\extra_environment\\python-virtualenv\\venv\\gym\\lib\\site-packages (from requests<3,>=2.21.0->tensorboard<3,>=2.3.0->tensorflow==2.3.1) (4.0.0)\n",
      "Requirement already satisfied: urllib3<1.27,>=1.21.1 in g:\\extra_environment\\python-virtualenv\\venv\\gym\\lib\\site-packages (from requests<3,>=2.21.0->tensorboard<3,>=2.3.0->tensorflow==2.3.1) (1.26.4)\n",
      "Requirement already satisfied: oauthlib>=3.0.0 in g:\\extra_environment\\python-virtualenv\\venv\\gym\\lib\\site-packages (from requests-oauthlib>=0.7.0->google-auth-oauthlib<0.5,>=0.4.1->tensorboard<3,>=2.3.0->tensorflow==2.3.1) (3.1.0)\n",
      "Requirement already satisfied: Pillow<=8.2.0 in g:\\extra_environment\\python-virtualenv\\venv\\gym\\lib\\site-packages (from gym) (8.2.0)\n",
      "Requirement already satisfied: pyglet<=1.5.15,>=1.4.0 in g:\\extra_environment\\python-virtualenv\\venv\\gym\\lib\\site-packages (from gym) (1.5.15)\n",
      "Requirement already satisfied: scipy in g:\\extra_environment\\python-virtualenv\\venv\\gym\\lib\\site-packages (from gym) (1.6.3)\n",
      "Requirement already satisfied: cloudpickle<1.7.0,>=1.2.0 in g:\\extra_environment\\python-virtualenv\\venv\\gym\\lib\\site-packages (from gym) (1.6.0)\n",
      "Requirement already satisfied: matplotlib in g:\\extra_environment\\python-virtualenv\\venv\\gym\\lib\\site-packages (from stable-baselines3) (3.4.2)\n",
      "Requirement already satisfied: torch>=1.4.0 in g:\\extra_environment\\python-virtualenv\\venv\\gym\\lib\\site-packages (from stable-baselines3) (1.8.1)\n",
      "Requirement already satisfied: pandas in g:\\extra_environment\\python-virtualenv\\venv\\gym\\lib\\site-packages (from stable-baselines3) (1.2.4)\n",
      "Requirement already satisfied: typing-extensions in g:\\extra_environment\\python-virtualenv\\venv\\gym\\lib\\site-packages (from torch>=1.4.0->stable-baselines3) (3.10.0.0)\n",
      "Requirement already satisfied: zipp>=0.5 in g:\\extra_environment\\python-virtualenv\\venv\\gym\\lib\\site-packages (from importlib-metadata->markdown>=2.6.8->tensorboard<3,>=2.3.0->tensorflow==2.3.1) (3.4.1)\n",
      "Requirement already satisfied: python-dateutil>=2.7 in g:\\extra_environment\\python-virtualenv\\venv\\gym\\lib\\site-packages (from matplotlib->stable-baselines3) (2.8.1)\n",
      "Requirement already satisfied: kiwisolver>=1.0.1 in g:\\extra_environment\\python-virtualenv\\venv\\gym\\lib\\site-packages (from matplotlib->stable-baselines3) (1.3.1)\n",
      "Requirement already satisfied: cycler>=0.10 in g:\\extra_environment\\python-virtualenv\\venv\\gym\\lib\\site-packages (from matplotlib->stable-baselines3) (0.10.0)\n",
      "Requirement already satisfied: pyparsing>=2.2.1 in g:\\extra_environment\\python-virtualenv\\venv\\gym\\lib\\site-packages (from matplotlib->stable-baselines3) (2.4.7)\n",
      "Requirement already satisfied: pytz>=2017.3 in g:\\extra_environment\\python-virtualenv\\venv\\gym\\lib\\site-packages (from pandas->stable-baselines3) (2021.1)\n",
      "Installing collected packages: gym-retro\n",
      "Successfully installed gym-retro-0.8.0\n"
     ]
    }
   ],
   "source": [
    "!pip install tensorflow==2.3.1 gym gym-retro keras-rl2 stable-baselines3"
   ]
  },
  {
   "cell_type": "code",
   "execution_count": 1,
   "id": "3d4450bd",
   "metadata": {},
   "outputs": [],
   "source": [
    "import random\n",
    "import time\n",
    "import os\n",
    "\n",
    "import gym \n",
    "import retro\n",
    "\n",
    "import numpy as np\n",
    "from tensorflow import keras \n",
    "from tensorflow.keras.models import Sequential\n",
    "from tensorflow.keras.layers import Dense, Flatten, Convolution2D\n",
    "from tensorflow.keras.optimizers import Adam"
   ]
  },
  {
   "cell_type": "markdown",
   "id": "e866cf0b",
   "metadata": {},
   "source": [
    "# Environment"
   ]
  },
  {
   "cell_type": "code",
   "execution_count": 2,
   "id": "13bdfec0",
   "metadata": {},
   "outputs": [
    {
     "name": "stdout",
     "output_type": "stream",
     "text": [
      "(224, 320, 3)\n",
      "MultiBinary(12)\n",
      "[0 0 0 1 0 1 1 0 1 1 0 1]\n"
     ]
    }
   ],
   "source": [
    "#if env:\n",
    "#    env.close()\n",
    "env = retro.make(game='Airstriker-Genesis')\n",
    "observations = env.observation_space.shape\n",
    "actions = env.action_space\n",
    "print(observations)\n",
    "print(actions)\n",
    "print(env.action_space.sample())"
   ]
  },
  {
   "cell_type": "code",
   "execution_count": 3,
   "id": "ec66d65b",
   "metadata": {
    "scrolled": true
   },
   "outputs": [
    {
     "name": "stdout",
     "output_type": "stream",
     "text": [
      "Episode:1 Score:140.0\n"
     ]
    }
   ],
   "source": [
    "episodes = 1\n",
    "for episode in range(1, episodes+1):\n",
    "    state = env.reset()\n",
    "    done = False\n",
    "    score = 0 \n",
    "    \n",
    "    while not done:\n",
    "        env.render()\n",
    "        action = env.action_space.sample()\n",
    "        n_state, reward, done, info = env.step(action)\n",
    "        score += reward\n",
    "    print('Episode:{} Score:{}'.format(episode, score))"
   ]
  },
  {
   "cell_type": "markdown",
   "id": "8e3da308",
   "metadata": {},
   "source": [
    "# KerasRL's DQN"
   ]
  },
  {
   "cell_type": "markdown",
   "id": "70e322b3",
   "metadata": {},
   "source": [
    "## Import"
   ]
  },
  {
   "cell_type": "code",
   "execution_count": 6,
   "id": "c79a434d",
   "metadata": {},
   "outputs": [],
   "source": [
    "from rl.agents import DQNAgent\n",
    "from rl.memory import SequentialMemory\n",
    "from rl.policy import LinearAnnealedPolicy, EpsGreedyQPolicy, BoltzmannQPolicy"
   ]
  },
  {
   "cell_type": "markdown",
   "id": "1cc0a6f0",
   "metadata": {},
   "source": [
    "## Model"
   ]
  },
  {
   "cell_type": "code",
   "execution_count": 7,
   "id": "efdd7f71",
   "metadata": {},
   "outputs": [],
   "source": [
    "def build_model(observations, actions):\n",
    "    model = Sequential()\n",
    "    model.add(Flatten(input_shape=(1,) + env.observation_space.shape))\n",
    "    model.add(Dense(24, activation='tanh'))\n",
    "    model.add(Dense(48, activation='tanh'))\n",
    "    model.add(Dense(actions, activation='linear'))\n",
    "    return model"
   ]
  },
  {
   "cell_type": "code",
   "execution_count": 8,
   "id": "f64bd546",
   "metadata": {
    "collapsed": true
   },
   "outputs": [
    {
     "ename": "TypeError",
     "evalue": "int() argument must be a string, a bytes-like object or a number, not 'MultiBinary'",
     "output_type": "error",
     "traceback": [
      "\u001b[1;31m---------------------------------------------------------------------------\u001b[0m",
      "\u001b[1;31mTypeError\u001b[0m                                 Traceback (most recent call last)",
      "\u001b[1;32m<ipython-input-8-a9ed05f64242>\u001b[0m in \u001b[0;36m<module>\u001b[1;34m\u001b[0m\n\u001b[1;32m----> 1\u001b[1;33m \u001b[0mmodel\u001b[0m \u001b[1;33m=\u001b[0m \u001b[0mbuild_model\u001b[0m\u001b[1;33m(\u001b[0m\u001b[0mobservations\u001b[0m\u001b[1;33m,\u001b[0m \u001b[0mactions\u001b[0m\u001b[1;33m)\u001b[0m\u001b[1;33m\u001b[0m\u001b[1;33m\u001b[0m\u001b[0m\n\u001b[0m",
      "\u001b[1;32m<ipython-input-7-debe84ee3d8f>\u001b[0m in \u001b[0;36mbuild_model\u001b[1;34m(observations, actions)\u001b[0m\n\u001b[0;32m      4\u001b[0m     \u001b[0mmodel\u001b[0m\u001b[1;33m.\u001b[0m\u001b[0madd\u001b[0m\u001b[1;33m(\u001b[0m\u001b[0mDense\u001b[0m\u001b[1;33m(\u001b[0m\u001b[1;36m24\u001b[0m\u001b[1;33m,\u001b[0m \u001b[0mactivation\u001b[0m\u001b[1;33m=\u001b[0m\u001b[1;34m'tanh'\u001b[0m\u001b[1;33m)\u001b[0m\u001b[1;33m)\u001b[0m\u001b[1;33m\u001b[0m\u001b[1;33m\u001b[0m\u001b[0m\n\u001b[0;32m      5\u001b[0m     \u001b[0mmodel\u001b[0m\u001b[1;33m.\u001b[0m\u001b[0madd\u001b[0m\u001b[1;33m(\u001b[0m\u001b[0mDense\u001b[0m\u001b[1;33m(\u001b[0m\u001b[1;36m48\u001b[0m\u001b[1;33m,\u001b[0m \u001b[0mactivation\u001b[0m\u001b[1;33m=\u001b[0m\u001b[1;34m'tanh'\u001b[0m\u001b[1;33m)\u001b[0m\u001b[1;33m)\u001b[0m\u001b[1;33m\u001b[0m\u001b[1;33m\u001b[0m\u001b[0m\n\u001b[1;32m----> 6\u001b[1;33m     \u001b[0mmodel\u001b[0m\u001b[1;33m.\u001b[0m\u001b[0madd\u001b[0m\u001b[1;33m(\u001b[0m\u001b[0mDense\u001b[0m\u001b[1;33m(\u001b[0m\u001b[0mactions\u001b[0m\u001b[1;33m,\u001b[0m \u001b[0mactivation\u001b[0m\u001b[1;33m=\u001b[0m\u001b[1;34m'linear'\u001b[0m\u001b[1;33m)\u001b[0m\u001b[1;33m)\u001b[0m\u001b[1;33m\u001b[0m\u001b[1;33m\u001b[0m\u001b[0m\n\u001b[0m\u001b[0;32m      7\u001b[0m     \u001b[1;32mreturn\u001b[0m \u001b[0mmodel\u001b[0m\u001b[1;33m\u001b[0m\u001b[1;33m\u001b[0m\u001b[0m\n",
      "\u001b[1;32mg:\\extra_environment\\python-virtualenv\\venv\\gym\\lib\\site-packages\\tensorflow\\python\\keras\\layers\\core.py\u001b[0m in \u001b[0;36m__init__\u001b[1;34m(self, units, activation, use_bias, kernel_initializer, bias_initializer, kernel_regularizer, bias_regularizer, activity_regularizer, kernel_constraint, bias_constraint, **kwargs)\u001b[0m\n\u001b[0;32m   1144\u001b[0m         activity_regularizer=activity_regularizer, **kwargs)\n\u001b[0;32m   1145\u001b[0m \u001b[1;33m\u001b[0m\u001b[0m\n\u001b[1;32m-> 1146\u001b[1;33m     \u001b[0mself\u001b[0m\u001b[1;33m.\u001b[0m\u001b[0munits\u001b[0m \u001b[1;33m=\u001b[0m \u001b[0mint\u001b[0m\u001b[1;33m(\u001b[0m\u001b[0munits\u001b[0m\u001b[1;33m)\u001b[0m \u001b[1;32mif\u001b[0m \u001b[1;32mnot\u001b[0m \u001b[0misinstance\u001b[0m\u001b[1;33m(\u001b[0m\u001b[0munits\u001b[0m\u001b[1;33m,\u001b[0m \u001b[0mint\u001b[0m\u001b[1;33m)\u001b[0m \u001b[1;32melse\u001b[0m \u001b[0munits\u001b[0m\u001b[1;33m\u001b[0m\u001b[1;33m\u001b[0m\u001b[0m\n\u001b[0m\u001b[0;32m   1147\u001b[0m     \u001b[0mself\u001b[0m\u001b[1;33m.\u001b[0m\u001b[0mactivation\u001b[0m \u001b[1;33m=\u001b[0m \u001b[0mactivations\u001b[0m\u001b[1;33m.\u001b[0m\u001b[0mget\u001b[0m\u001b[1;33m(\u001b[0m\u001b[0mactivation\u001b[0m\u001b[1;33m)\u001b[0m\u001b[1;33m\u001b[0m\u001b[1;33m\u001b[0m\u001b[0m\n\u001b[0;32m   1148\u001b[0m     \u001b[0mself\u001b[0m\u001b[1;33m.\u001b[0m\u001b[0muse_bias\u001b[0m \u001b[1;33m=\u001b[0m \u001b[0muse_bias\u001b[0m\u001b[1;33m\u001b[0m\u001b[1;33m\u001b[0m\u001b[0m\n",
      "\u001b[1;31mTypeError\u001b[0m: int() argument must be a string, a bytes-like object or a number, not 'MultiBinary'"
     ]
    }
   ],
   "source": [
    "model = build_model(observations, actions)"
   ]
  },
  {
   "cell_type": "code",
   "execution_count": 36,
   "id": "f81613b7",
   "metadata": {},
   "outputs": [
    {
     "name": "stdout",
     "output_type": "stream",
     "text": [
      "Model: \"sequential\"\n",
      "_________________________________________________________________\n",
      "Layer (type)                 Output Shape              Param #   \n",
      "=================================================================\n",
      "flatten (Flatten)            (None, 4)                 0         \n",
      "_________________________________________________________________\n",
      "dense (Dense)                (None, 24)                120       \n",
      "_________________________________________________________________\n",
      "dense_1 (Dense)              (None, 48)                1200      \n",
      "_________________________________________________________________\n",
      "dense_2 (Dense)              (None, 2)                 98        \n",
      "=================================================================\n",
      "Total params: 1,418\n",
      "Trainable params: 1,418\n",
      "Non-trainable params: 0\n",
      "_________________________________________________________________\n"
     ]
    }
   ],
   "source": [
    "model.summary()"
   ]
  },
  {
   "cell_type": "markdown",
   "id": "ac65c994",
   "metadata": {},
   "source": [
    "## DQN"
   ]
  },
  {
   "cell_type": "code",
   "execution_count": 18,
   "id": "f87bfcd4",
   "metadata": {},
   "outputs": [],
   "source": [
    "def build_agent(model, actions):\n",
    "    memory = SequentialMemory(limit=50000, window_length=1)\n",
    "    policy = BoltzmannQPolicy()\n",
    "    dqn = DQNAgent(model=model, nb_actions=actions, memory=memory, nb_steps_warmup=2000,\n",
    "                   target_model_update=1e-2, policy=policy)\n",
    "    dqn.compile(Adam(lr=0.01, decay=0.01), metrics=['mse'])\n",
    "    return dqn"
   ]
  },
  {
   "cell_type": "code",
   "execution_count": 19,
   "id": "666c9042",
   "metadata": {},
   "outputs": [],
   "source": [
    "dqn = build_agent(model, actions)"
   ]
  },
  {
   "cell_type": "code",
   "execution_count": 24,
   "id": "35a41482",
   "metadata": {
    "scrolled": true
   },
   "outputs": [
    {
     "name": "stdout",
     "output_type": "stream",
     "text": [
      "Training for 10000 steps ...\n",
      "Interval 1 (0 steps performed)\n",
      "10000/10000 [==============================] - 76s 8ms/step - reward: 1.0000\n",
      "done, took 76.169 seconds\n"
     ]
    },
    {
     "data": {
      "text/plain": [
       "<tensorflow.python.keras.callbacks.History at 0x1b85b1d8388>"
      ]
     },
     "execution_count": 24,
     "metadata": {},
     "output_type": "execute_result"
    }
   ],
   "source": [
    "dqn.fit(env, nb_steps=10000, visualize=False, verbose=1)"
   ]
  },
  {
   "cell_type": "code",
   "execution_count": 25,
   "id": "cac100f0",
   "metadata": {},
   "outputs": [],
   "source": [
    "dqn.save_weights('./trained_models/KeraRL/model_10000')"
   ]
  },
  {
   "cell_type": "markdown",
   "id": "d6a199df",
   "metadata": {},
   "source": [
    "## Test"
   ]
  },
  {
   "cell_type": "code",
   "execution_count": 26,
   "id": "b57cbef6",
   "metadata": {},
   "outputs": [],
   "source": [
    "dqn.load_weights('./trained_models/KeraRL/model_10000')"
   ]
  },
  {
   "cell_type": "code",
   "execution_count": 34,
   "id": "1c125590",
   "metadata": {},
   "outputs": [
    {
     "name": "stdout",
     "output_type": "stream",
     "text": [
      "Testing for 5 episodes ...\n",
      "Episode 1: reward: 200.000, steps: 200\n",
      "Episode 2: reward: 200.000, steps: 200\n",
      "Episode 3: reward: 200.000, steps: 200\n",
      "Episode 4: reward: 200.000, steps: 200\n",
      "Episode 5: reward: 200.000, steps: 200\n",
      "200.0\n"
     ]
    }
   ],
   "source": [
    "scores = dqn.test(env, nb_episodes=5, visualize=True)\n",
    "print(np.mean(scores.history['episode_reward']))"
   ]
  },
  {
   "cell_type": "code",
   "execution_count": 48,
   "id": "5d005524",
   "metadata": {},
   "outputs": [
    {
     "name": "stdout",
     "output_type": "stream",
     "text": [
      "Episode: 0 score: 200.0\n",
      "Episode: 1 score: 200.0\n",
      "Episode: 2 score: 200.0\n",
      "Episode: 3 score: 200.0\n",
      "Episode: 4 score: 200.0\n"
     ]
    }
   ],
   "source": [
    "episodes = 5\n",
    "for episode in range(episodes):\n",
    "    state = env.reset()\n",
    "    score = 0\n",
    "    while True:\n",
    "        action = dqn.forward(state)\n",
    "        state, reward, done, info = env.step(action)\n",
    "        env.render()\n",
    "        score+=reward\n",
    "        if done:\n",
    "            break\n",
    "    print('Episode: {} score: {}'.format(episode, score))"
   ]
  },
  {
   "cell_type": "markdown",
   "id": "99c18964",
   "metadata": {},
   "source": [
    "# Stable baseline"
   ]
  },
  {
   "cell_type": "markdown",
   "id": "0410385b",
   "metadata": {},
   "source": [
    "## Import"
   ]
  },
  {
   "cell_type": "code",
   "execution_count": 4,
   "id": "a3dd36ce",
   "metadata": {},
   "outputs": [],
   "source": [
    "from stable_baselines3.common.vec_env import VecFrameStack, DummyVecEnv, SubprocVecEnv\n",
    "from stable_baselines3 import A2C, PPO\n",
    "from stable_baselines3.common.callbacks import BaseCallback\n",
    "from stable_baselines3.common.evaluation import evaluate_policy"
   ]
  },
  {
   "cell_type": "markdown",
   "id": "ae4e04aa",
   "metadata": {},
   "source": [
    "## Callback"
   ]
  },
  {
   "cell_type": "code",
   "execution_count": 5,
   "id": "e6b3ce28",
   "metadata": {},
   "outputs": [],
   "source": [
    "class SavingBestTrainingRewardCallback(BaseCallback):\n",
    "    def __init__(self, check_freq:int, save_path: str, verbose=1):\n",
    "        super(SavingBestTrainingRewardCallback, self).__init__(verbose)\n",
    "        self.check_freq = check_freq\n",
    "        self.save_path = save_path\n",
    "    def _init_callback(self):\n",
    "        if self.save_path:\n",
    "            os.makedirs(self.save_path, exist_ok=True)\n",
    "    def _on_step(self):\n",
    "        if self.n_calls % self.check_freq == 0:\n",
    "            model_path = os.path.join(self.save_path, 'model_{}'.format(self.n_calls))\n",
    "            self.model.save(model_path)\n",
    "        return True"
   ]
  },
  {
   "cell_type": "code",
   "execution_count": 10,
   "id": "a582de2e",
   "metadata": {},
   "outputs": [],
   "source": [
    "CHECKPOINT_DIR = './trained_models/AirStrike-Genesis/StableBaselines/'\n",
    "LOG_DIR = './logs/AirStrike-Genesis/StableBaselines/'\n",
    "callback = SavingBestTrainingRewardCallback(check_freq=500, save_path=CHECKPOINT_DIR)"
   ]
  },
  {
   "cell_type": "markdown",
   "id": "716a6148",
   "metadata": {},
   "source": [
    "## Train"
   ]
  },
  {
   "cell_type": "code",
   "execution_count": 11,
   "id": "848ce634",
   "metadata": {
    "scrolled": true
   },
   "outputs": [
    {
     "name": "stdout",
     "output_type": "stream",
     "text": [
      "Using cpu device\n",
      "Wrapping the env with a `Monitor` wrapper\n",
      "Wrapping the env in a DummyVecEnv.\n",
      "Wrapping the env in a VecTransposeImage.\n"
     ]
    }
   ],
   "source": [
    "# agent = PPO('CnnPolicy', env, verbose=0, tensorboard_log=LOG_DIR)\n",
    "agent = PPO('CnnPolicy', env, verbose=1)"
   ]
  },
  {
   "cell_type": "code",
   "execution_count": null,
   "id": "66e2d10f",
   "metadata": {},
   "outputs": [],
   "source": [
    "# trained_agent = PPO.load('./train/model_10000', env=env, tensorboard_log=LOG_DIR)"
   ]
  },
  {
   "cell_type": "code",
   "execution_count": null,
   "id": "411d4c48",
   "metadata": {},
   "outputs": [
    {
     "name": "stdout",
     "output_type": "stream",
     "text": [
      "---------------------------------\n",
      "| rollout/           |          |\n",
      "|    ep_len_mean     | 1.51e+03 |\n",
      "|    ep_rew_mean     | 160      |\n",
      "| time/              |          |\n",
      "|    fps             | 39       |\n",
      "|    iterations      | 1        |\n",
      "|    time_elapsed    | 51       |\n",
      "|    total_timesteps | 2048     |\n",
      "| train/             |          |\n",
      "|    learning_rate   | 0.0003   |\n",
      "---------------------------------\n"
     ]
    }
   ],
   "source": [
    "agent.learn(total_timesteps= 3000, callback= callback)"
   ]
  },
  {
   "cell_type": "markdown",
   "id": "8119e0ef",
   "metadata": {},
   "source": [
    "## Test"
   ]
  },
  {
   "cell_type": "code",
   "execution_count": 49,
   "id": "21ec0994",
   "metadata": {},
   "outputs": [
    {
     "name": "stdout",
     "output_type": "stream",
     "text": [
      "Wrapping the env with a `Monitor` wrapper\n",
      "Wrapping the env in a DummyVecEnv.\n",
      "Wrapping the env in a VecTransposeImage.\n"
     ]
    }
   ],
   "source": [
    "agent = PPO.load(CHECKPOINT_DIR + '/model_4000', env=env)"
   ]
  },
  {
   "cell_type": "code",
   "execution_count": 52,
   "id": "db76df9c",
   "metadata": {},
   "outputs": [
    {
     "data": {
      "text/plain": [
       "(240.0, 0.0)"
      ]
     },
     "execution_count": 52,
     "metadata": {},
     "output_type": "execute_result"
    }
   ],
   "source": [
    "evaluate_policy(agent, env, n_eval_episodes=1, render=False)"
   ]
  },
  {
   "cell_type": "code",
   "execution_count": 54,
   "id": "e1bfa415",
   "metadata": {},
   "outputs": [
    {
     "name": "stdout",
     "output_type": "stream",
     "text": [
      "Episode: 0 score: 160.0\n"
     ]
    }
   ],
   "source": [
    "episodes = 1\n",
    "for episode in range(episodes):\n",
    "    state = env.reset()\n",
    "    score = 0\n",
    "    while True:\n",
    "        action, states = agent.predict(state)\n",
    "        state, reward, done, info = env.step(action)\n",
    "        env.render()\n",
    "        score+=reward\n",
    "        if done:\n",
    "            break\n",
    "    print('Episode: {} score: {}'.format(episode, score))"
   ]
  },
  {
   "cell_type": "markdown",
   "id": "792526cf",
   "metadata": {},
   "source": [
    "# T"
   ]
  },
  {
   "cell_type": "markdown",
   "id": "37932ee5",
   "metadata": {},
   "source": [
    "# T"
   ]
  },
  {
   "cell_type": "code",
   "execution_count": null,
   "id": "de908d53",
   "metadata": {},
   "outputs": [],
   "source": []
  }
 ],
 "metadata": {
  "kernelspec": {
   "display_name": "Python 3",
   "language": "python",
   "name": "python3"
  },
  "language_info": {
   "codemirror_mode": {
    "name": "ipython",
    "version": 3
   },
   "file_extension": ".py",
   "mimetype": "text/x-python",
   "name": "python",
   "nbconvert_exporter": "python",
   "pygments_lexer": "ipython3",
   "version": "3.7.8"
  }
 },
 "nbformat": 4,
 "nbformat_minor": 5
}
