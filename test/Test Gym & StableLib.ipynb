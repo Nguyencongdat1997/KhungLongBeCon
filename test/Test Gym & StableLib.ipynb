{
 "cells": [
  {
   "cell_type": "markdown",
   "id": "cc011312",
   "metadata": {},
   "source": [
    "# Installization & Import"
   ]
  },
  {
   "cell_type": "code",
   "execution_count": 1,
   "id": "b81d7a86",
   "metadata": {
    "scrolled": true
   },
   "outputs": [
    {
     "name": "stdout",
     "output_type": "stream",
     "text": [
      "^C\n"
     ]
    }
   ],
   "source": [
    "!pip install tensorflow==2.3.1 gym keras-rl2 gym[atari]"
   ]
  },
  {
   "cell_type": "code",
   "execution_count": 70,
   "id": "3d4450bd",
   "metadata": {},
   "outputs": [],
   "source": [
    "import gym \n",
    "import random\n",
    "import time\n",
    "\n",
    "import numpy as np\n",
    "from tensorflow.keras.models import Sequential\n",
    "from tensorflow.keras.layers import Dense, Flatten, Convolution2D\n",
    "from tensorflow.keras.optimizers import Adam"
   ]
  },
  {
   "cell_type": "markdown",
   "id": "e866cf0b",
   "metadata": {},
   "source": [
    "# Environment"
   ]
  },
  {
   "cell_type": "code",
   "execution_count": 13,
   "id": "13bdfec0",
   "metadata": {},
   "outputs": [],
   "source": [
    "env = gym.make('CartPole-v0')\n",
    "observations = env.observation_space.shape[0]\n",
    "actions = env.action_space.n\n",
    "action_space = [x for x in range(actions)]"
   ]
  },
  {
   "cell_type": "code",
   "execution_count": 71,
   "id": "ec66d65b",
   "metadata": {
    "scrolled": true
   },
   "outputs": [
    {
     "name": "stdout",
     "output_type": "stream",
     "text": [
      "Episode:1 Score:32.0\n",
      "Episode:2 Score:14.0\n",
      "Episode:3 Score:14.0\n",
      "Episode:4 Score:10.0\n",
      "Episode:5 Score:17.0\n"
     ]
    }
   ],
   "source": [
    "episodes = 5\n",
    "for episode in range(1, episodes+1):\n",
    "    state = env.reset()\n",
    "    done = False\n",
    "    score = 0 \n",
    "    \n",
    "    while not done:\n",
    "        env.render()\n",
    "        action = random.choice(action_space)\n",
    "        n_state, reward, done, info = env.step(action)\n",
    "        score += reward\n",
    "    print('Episode:{} Score:{}'.format(episode, score))\n",
    "env.close()"
   ]
  },
  {
   "cell_type": "markdown",
   "id": "8e3da308",
   "metadata": {},
   "source": [
    "# KerasRL's DQN"
   ]
  },
  {
   "cell_type": "code",
   "execution_count": 72,
   "id": "efdd7f71",
   "metadata": {},
   "outputs": [],
   "source": [
    "def build_model(observations, actions):\n",
    "    model = Sequential()\n",
    "    model.add(Flatten(input_shape=(1,) + env.observation_space.shape))\n",
    "    model.add(Dense(24, activation='tanh'))\n",
    "    model.add(Dense(48, activation='tanh'))\n",
    "    model.add(Dense(actions, activation='linear'))\n",
    "    return model"
   ]
  },
  {
   "cell_type": "code",
   "execution_count": 73,
   "id": "f64bd546",
   "metadata": {},
   "outputs": [],
   "source": [
    "model = build_model(observations, actions)"
   ]
  },
  {
   "cell_type": "code",
   "execution_count": 74,
   "id": "f81613b7",
   "metadata": {},
   "outputs": [
    {
     "name": "stdout",
     "output_type": "stream",
     "text": [
      "Model: \"sequential_4\"\n",
      "_________________________________________________________________\n",
      "Layer (type)                 Output Shape              Param #   \n",
      "=================================================================\n",
      "flatten_1 (Flatten)          (None, 4)                 0         \n",
      "_________________________________________________________________\n",
      "dense_12 (Dense)             (None, 24)                120       \n",
      "_________________________________________________________________\n",
      "dense_13 (Dense)             (None, 48)                1200      \n",
      "_________________________________________________________________\n",
      "dense_14 (Dense)             (None, 2)                 98        \n",
      "=================================================================\n",
      "Total params: 1,418\n",
      "Trainable params: 1,418\n",
      "Non-trainable params: 0\n",
      "_________________________________________________________________\n"
     ]
    }
   ],
   "source": [
    "model.summary()"
   ]
  },
  {
   "cell_type": "code",
   "execution_count": 75,
   "id": "c79a434d",
   "metadata": {},
   "outputs": [],
   "source": [
    "from rl.agents import DQNAgent\n",
    "from rl.memory import SequentialMemory\n",
    "from rl.policy import LinearAnnealedPolicy, EpsGreedyQPolicy, BoltzmannQPolicy"
   ]
  },
  {
   "cell_type": "code",
   "execution_count": 76,
   "id": "f87bfcd4",
   "metadata": {},
   "outputs": [],
   "source": [
    "def build_agent(model, actions):\n",
    "    memory = SequentialMemory(limit=50000, window_length=1)\n",
    "    policy = BoltzmannQPolicy()\n",
    "    dqn = DQNAgent(model=model, nb_actions=actions, memory=memory, nb_steps_warmup=2000,\n",
    "                   target_model_update=1e-2, policy=policy)\n",
    "    dqn.compile(Adam(lr=0.01, decay=0.01), metrics=['mse'])\n",
    "    return dqn"
   ]
  },
  {
   "cell_type": "code",
   "execution_count": 77,
   "id": "666c9042",
   "metadata": {},
   "outputs": [],
   "source": [
    "dqn = build_agent(model, actions)\n",
    "dqn.compile(Adam(lr=1e-4))"
   ]
  },
  {
   "cell_type": "code",
   "execution_count": 82,
   "id": "35a41482",
   "metadata": {
    "collapsed": true
   },
   "outputs": [
    {
     "name": "stdout",
     "output_type": "stream",
     "text": [
      "Training for 1000 steps ...\n",
      " 135/1000: episode: 1, duration: 2.264s, episode steps: 135, steps per second:  60, episode reward: 135.000, mean reward:  1.000 [ 1.000,  1.000], mean action: 0.548 [0.000, 1.000],  loss: --, mean_q: --\n",
      " 335/1000: episode: 2, duration: 3.351s, episode steps: 200, steps per second:  60, episode reward: 200.000, mean reward:  1.000 [ 1.000,  1.000], mean action: 0.495 [0.000, 1.000],  loss: --, mean_q: --\n",
      " 518/1000: episode: 3, duration: 3.048s, episode steps: 183, steps per second:  60, episode reward: 183.000, mean reward:  1.000 [ 1.000,  1.000], mean action: 0.481 [0.000, 1.000],  loss: --, mean_q: --\n",
      " 709/1000: episode: 4, duration: 3.181s, episode steps: 191, steps per second:  60, episode reward: 191.000, mean reward:  1.000 [ 1.000,  1.000], mean action: 0.529 [0.000, 1.000],  loss: --, mean_q: --\n",
      " 893/1000: episode: 5, duration: 3.064s, episode steps: 184, steps per second:  60, episode reward: 184.000, mean reward:  1.000 [ 1.000,  1.000], mean action: 0.522 [0.000, 1.000],  loss: --, mean_q: --\n",
      "done, took 16.693 seconds\n"
     ]
    },
    {
     "data": {
      "text/plain": [
       "<tensorflow.python.keras.callbacks.History at 0x23749986148>"
      ]
     },
     "execution_count": 82,
     "metadata": {},
     "output_type": "execute_result"
    }
   ],
   "source": [
    "dqn.fit(env, nb_steps=10000, visualize=True, verbose=2)"
   ]
  },
  {
   "cell_type": "code",
   "execution_count": 80,
   "id": "1c125590",
   "metadata": {},
   "outputs": [
    {
     "name": "stdout",
     "output_type": "stream",
     "text": [
      "Testing for 10 episodes ...\n",
      "Episode 1: reward: 163.000, steps: 163\n",
      "Episode 2: reward: 200.000, steps: 200\n",
      "Episode 3: reward: 200.000, steps: 200\n",
      "Episode 4: reward: 163.000, steps: 163\n",
      "Episode 5: reward: 200.000, steps: 200\n",
      "Episode 6: reward: 200.000, steps: 200\n",
      "Episode 7: reward: 200.000, steps: 200\n",
      "Episode 8: reward: 200.000, steps: 200\n",
      "Episode 9: reward: 177.000, steps: 177\n",
      "Episode 10: reward: 200.000, steps: 200\n",
      "190.3\n"
     ]
    }
   ],
   "source": [
    "scores = dqn.test(env, nb_episodes=10, visualize=True)\n",
    "print(np.mean(scores.history['episode_reward']))"
   ]
  },
  {
   "cell_type": "markdown",
   "id": "99c18964",
   "metadata": {},
   "source": [
    "# Installization"
   ]
  },
  {
   "cell_type": "markdown",
   "id": "792526cf",
   "metadata": {},
   "source": [
    "# Installization"
   ]
  },
  {
   "cell_type": "markdown",
   "id": "37932ee5",
   "metadata": {},
   "source": [
    "# Installization"
   ]
  },
  {
   "cell_type": "code",
   "execution_count": null,
   "id": "de908d53",
   "metadata": {},
   "outputs": [],
   "source": [
    "# Installization# Installization"
   ]
  }
 ],
 "metadata": {
  "kernelspec": {
   "display_name": "Python 3",
   "language": "python",
   "name": "python3"
  },
  "language_info": {
   "codemirror_mode": {
    "name": "ipython",
    "version": 3
   },
   "file_extension": ".py",
   "mimetype": "text/x-python",
   "name": "python",
   "nbconvert_exporter": "python",
   "pygments_lexer": "ipython3",
   "version": "3.7.8"
  }
 },
 "nbformat": 4,
 "nbformat_minor": 5
}
