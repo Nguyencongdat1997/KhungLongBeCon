{
 "cells": [
  {
   "cell_type": "markdown",
   "id": "cc011312",
   "metadata": {},
   "source": [
    "# Installization & Import"
   ]
  },
  {
   "cell_type": "code",
   "execution_count": 1,
   "id": "b81d7a86",
   "metadata": {
    "scrolled": true
   },
   "outputs": [
    {
     "name": "stdout",
     "output_type": "stream",
     "text": [
      "^C\n"
     ]
    }
   ],
   "source": [
    "!pip install tensorflow==2.3.1 gym keras-rl2 gym[atari]"
   ]
  },
  {
   "cell_type": "code",
   "execution_count": 14,
   "id": "3d4450bd",
   "metadata": {},
   "outputs": [],
   "source": [
    "import gym \n",
    "import random\n",
    "import time\n",
    "\n",
    "import numpy as np\n",
    "from tensorflow import keras \n",
    "from tensorflow.keras.models import Sequential\n",
    "from tensorflow.keras.layers import Dense, Flatten, Convolution2D\n",
    "from tensorflow.keras.optimizers import Adam"
   ]
  },
  {
   "cell_type": "markdown",
   "id": "e866cf0b",
   "metadata": {},
   "source": [
    "# Environment"
   ]
  },
  {
   "cell_type": "code",
   "execution_count": 5,
   "id": "13bdfec0",
   "metadata": {},
   "outputs": [],
   "source": [
    "env = gym.make('CartPole-v0')\n",
    "observations = env.observation_space.shape[0]\n",
    "actions = env.action_space.n\n",
    "action_space = [x for x in range(actions)]"
   ]
  },
  {
   "cell_type": "code",
   "execution_count": 6,
   "id": "06c25dea",
   "metadata": {},
   "outputs": [
    {
     "name": "stdout",
     "output_type": "stream",
     "text": [
      "4\n",
      "2\n",
      "[0.01708181 0.03674176 0.03509429 0.00209433]\n",
      "[ 0.01781664 -0.15886546  0.03513617  0.30564009] 1.0 False {}\n"
     ]
    }
   ],
   "source": [
    "print(observations)\n",
    "print(actions)\n",
    "state = env.reset()\n",
    "print(state)\n",
    "state, reward, done, info = env.step(0)\n",
    "print(state, reward, done, info)"
   ]
  },
  {
   "cell_type": "code",
   "execution_count": 4,
   "id": "ec66d65b",
   "metadata": {
    "scrolled": true
   },
   "outputs": [
    {
     "name": "stdout",
     "output_type": "stream",
     "text": [
      "Episode:1 Score:17.0\n",
      "Episode:2 Score:12.0\n",
      "Episode:3 Score:33.0\n",
      "Episode:4 Score:16.0\n",
      "Episode:5 Score:17.0\n"
     ]
    }
   ],
   "source": [
    "episodes = 5\n",
    "for episode in range(1, episodes+1):\n",
    "    state = env.reset()\n",
    "    done = False\n",
    "    score = 0 \n",
    "    \n",
    "    while not done:\n",
    "        env.render()\n",
    "        action = random.choice(action_space)\n",
    "        n_state, reward, done, info = env.step(action)\n",
    "        score += reward\n",
    "    print('Episode:{} Score:{}'.format(episode, score))\n",
    "env.close()"
   ]
  },
  {
   "cell_type": "markdown",
   "id": "8e3da308",
   "metadata": {},
   "source": [
    "# KerasRL's DQN"
   ]
  },
  {
   "cell_type": "markdown",
   "id": "70e322b3",
   "metadata": {},
   "source": [
    "## Import"
   ]
  },
  {
   "cell_type": "code",
   "execution_count": 3,
   "id": "c79a434d",
   "metadata": {},
   "outputs": [],
   "source": [
    "from rl.agents import DQNAgent\n",
    "from rl.memory import SequentialMemory\n",
    "from rl.policy import LinearAnnealedPolicy, EpsGreedyQPolicy, BoltzmannQPolicy"
   ]
  },
  {
   "cell_type": "markdown",
   "id": "1cc0a6f0",
   "metadata": {},
   "source": [
    "## Model"
   ]
  },
  {
   "cell_type": "code",
   "execution_count": 8,
   "id": "efdd7f71",
   "metadata": {},
   "outputs": [],
   "source": [
    "def build_model(observations, actions):\n",
    "    model = Sequential()\n",
    "    model.add(Flatten(input_shape=(1,) + env.observation_space.shape))\n",
    "    model.add(Dense(24, activation='tanh'))\n",
    "    model.add(Dense(48, activation='tanh'))\n",
    "    model.add(Dense(actions, activation='linear'))\n",
    "    return model"
   ]
  },
  {
   "cell_type": "code",
   "execution_count": 9,
   "id": "f64bd546",
   "metadata": {},
   "outputs": [],
   "source": [
    "model = build_model(observations, actions)"
   ]
  },
  {
   "cell_type": "code",
   "execution_count": 36,
   "id": "f81613b7",
   "metadata": {},
   "outputs": [
    {
     "name": "stdout",
     "output_type": "stream",
     "text": [
      "Model: \"sequential\"\n",
      "_________________________________________________________________\n",
      "Layer (type)                 Output Shape              Param #   \n",
      "=================================================================\n",
      "flatten (Flatten)            (None, 4)                 0         \n",
      "_________________________________________________________________\n",
      "dense (Dense)                (None, 24)                120       \n",
      "_________________________________________________________________\n",
      "dense_1 (Dense)              (None, 48)                1200      \n",
      "_________________________________________________________________\n",
      "dense_2 (Dense)              (None, 2)                 98        \n",
      "=================================================================\n",
      "Total params: 1,418\n",
      "Trainable params: 1,418\n",
      "Non-trainable params: 0\n",
      "_________________________________________________________________\n"
     ]
    }
   ],
   "source": [
    "model.summary()"
   ]
  },
  {
   "cell_type": "markdown",
   "id": "ac65c994",
   "metadata": {},
   "source": [
    "## DQN"
   ]
  },
  {
   "cell_type": "code",
   "execution_count": 18,
   "id": "f87bfcd4",
   "metadata": {},
   "outputs": [],
   "source": [
    "def build_agent(model, actions):\n",
    "    memory = SequentialMemory(limit=50000, window_length=1)\n",
    "    policy = BoltzmannQPolicy()\n",
    "    dqn = DQNAgent(model=model, nb_actions=actions, memory=memory, nb_steps_warmup=2000,\n",
    "                   target_model_update=1e-2, policy=policy)\n",
    "    dqn.compile(Adam(lr=0.01, decay=0.01), metrics=['mse'])\n",
    "    return dqn"
   ]
  },
  {
   "cell_type": "code",
   "execution_count": 19,
   "id": "666c9042",
   "metadata": {},
   "outputs": [],
   "source": [
    "dqn = build_agent(model, actions)"
   ]
  },
  {
   "cell_type": "code",
   "execution_count": 24,
   "id": "35a41482",
   "metadata": {
    "scrolled": true
   },
   "outputs": [
    {
     "name": "stdout",
     "output_type": "stream",
     "text": [
      "Training for 10000 steps ...\n",
      "Interval 1 (0 steps performed)\n",
      "10000/10000 [==============================] - 76s 8ms/step - reward: 1.0000\n",
      "done, took 76.169 seconds\n"
     ]
    },
    {
     "data": {
      "text/plain": [
       "<tensorflow.python.keras.callbacks.History at 0x1b85b1d8388>"
      ]
     },
     "execution_count": 24,
     "metadata": {},
     "output_type": "execute_result"
    }
   ],
   "source": [
    "dqn.fit(env, nb_steps=10000, visualize=False, verbose=1)"
   ]
  },
  {
   "cell_type": "code",
   "execution_count": 25,
   "id": "cac100f0",
   "metadata": {},
   "outputs": [],
   "source": [
    "dqn.save_weights('./trained_models/KeraRL/model_10000')"
   ]
  },
  {
   "cell_type": "markdown",
   "id": "d6a199df",
   "metadata": {},
   "source": [
    "## Test"
   ]
  },
  {
   "cell_type": "code",
   "execution_count": 26,
   "id": "b57cbef6",
   "metadata": {},
   "outputs": [],
   "source": [
    "dqn.load_weights('./trained_models/KeraRL/model_10000')"
   ]
  },
  {
   "cell_type": "code",
   "execution_count": 34,
   "id": "1c125590",
   "metadata": {},
   "outputs": [
    {
     "name": "stdout",
     "output_type": "stream",
     "text": [
      "Testing for 5 episodes ...\n",
      "Episode 1: reward: 200.000, steps: 200\n",
      "Episode 2: reward: 200.000, steps: 200\n",
      "Episode 3: reward: 200.000, steps: 200\n",
      "Episode 4: reward: 200.000, steps: 200\n",
      "Episode 5: reward: 200.000, steps: 200\n",
      "200.0\n"
     ]
    }
   ],
   "source": [
    "scores = dqn.test(env, nb_episodes=5, visualize=True)\n",
    "print(np.mean(scores.history['episode_reward']))"
   ]
  },
  {
   "cell_type": "code",
   "execution_count": 48,
   "id": "5d005524",
   "metadata": {},
   "outputs": [
    {
     "name": "stdout",
     "output_type": "stream",
     "text": [
      "Episode: 0 score: 200.0\n",
      "Episode: 1 score: 200.0\n",
      "Episode: 2 score: 200.0\n",
      "Episode: 3 score: 200.0\n",
      "Episode: 4 score: 200.0\n"
     ]
    }
   ],
   "source": [
    "episodes = 5\n",
    "for episode in range(episodes):\n",
    "    state = env.reset()\n",
    "    score = 0\n",
    "    while True:\n",
    "        action = dqn.forward(state)\n",
    "        state, reward, done, info = env.step(action)\n",
    "        env.render()\n",
    "        score+=reward\n",
    "        if done:\n",
    "            break\n",
    "    print('Episode: {} score: {}'.format(episode, score))"
   ]
  },
  {
   "cell_type": "markdown",
   "id": "99c18964",
   "metadata": {},
   "source": [
    "# Stable baseline"
   ]
  },
  {
   "cell_type": "markdown",
   "id": "0410385b",
   "metadata": {},
   "source": [
    "## Import"
   ]
  },
  {
   "cell_type": "code",
   "execution_count": 18,
   "id": "a3dd36ce",
   "metadata": {},
   "outputs": [],
   "source": [
    "from stable_baselines3.common.cmd_util import make_atari_env\n",
    "from stable_baselines3.common.vec_env import VecFrameStack, DummyVecEnv\n",
    "from stable_baselines3 import PPO, DQN, A2C\n",
    "from stable_baselines3.common.callbacks import BaseCallback\n",
    "from stable_baselines3.common.evaluation import evaluate_policy\n",
    "import numpy as np \n",
    "import os## Import"
   ]
  },
  {
   "cell_type": "markdown",
   "id": "ae4e04aa",
   "metadata": {},
   "source": [
    "## Callback"
   ]
  },
  {
   "cell_type": "code",
   "execution_count": 26,
   "id": "e6b3ce28",
   "metadata": {},
   "outputs": [],
   "source": [
    "class SavingBestTrainingRewardCallback(BaseCallback):\n",
    "    def __init__(self, check_freq:int, save_path: str, verbose=1):\n",
    "        super(SavingBestTrainingRewardCallback, self).__init__(verbose)\n",
    "        self.check_freq = check_freq\n",
    "        self.save_path = save_path\n",
    "    def _init_callback(self):\n",
    "        if self.save_path:\n",
    "            os.makedirs(self.save_path, exist_ok=True)\n",
    "    def _on_step(self):\n",
    "        if self.n_calls % self.check_freq == 0:\n",
    "            model_path = os.path.join(self.save_path, 'model_{}'.format(self.n_calls))\n",
    "            self.model.save(model_path)\n",
    "        return True"
   ]
  },
  {
   "cell_type": "code",
   "execution_count": 35,
   "id": "a582de2e",
   "metadata": {},
   "outputs": [],
   "source": [
    "CHECKPOINT_DIR = './trained_models/StableBaselines/'\n",
    "LOG_DIR = './logs/StableBaselines/'\n",
    "callback = SavingBestTrainingRewardCallback(check_freq=1000, save_path=CHECKPOINT_DIR)"
   ]
  },
  {
   "cell_type": "markdown",
   "id": "716a6148",
   "metadata": {},
   "source": [
    "## Train"
   ]
  },
  {
   "cell_type": "code",
   "execution_count": 54,
   "id": "848ce634",
   "metadata": {},
   "outputs": [],
   "source": [
    "agent = A2C('MlpPolicy', env, verbose=0, tensorboard_log=LOG_DIR)\n",
    "# agent = DQN('MlpPolicy', env, verbose=0, tensorboard_log=LOG_DIR)\n",
    "#agent = ACER('CnnPolicy', env, verbose=1, tensorboard_log=LOG_DIR)\n",
    "#agent = PPO2('CnnPolicy', env, minibaches=2, verbose=1, tensorboard_log=LOG_DIR)\n",
    "#agent = DQN('CnnPolicy', env, verbose=1, tensorboard_log=LOG_DIR)"
   ]
  },
  {
   "cell_type": "code",
   "execution_count": null,
   "id": "66e2d10f",
   "metadata": {},
   "outputs": [],
   "source": [
    "# trained_agent = A2C.load('./train/model_10000', env=env, tensorboard_log=LOG_DIR)"
   ]
  },
  {
   "cell_type": "code",
   "execution_count": 55,
   "id": "411d4c48",
   "metadata": {},
   "outputs": [
    {
     "data": {
      "text/plain": [
       "<stable_baselines3.a2c.a2c.A2C at 0x1bb5fae4908>"
      ]
     },
     "execution_count": 55,
     "metadata": {},
     "output_type": "execute_result"
    }
   ],
   "source": [
    "agent.learn(total_timesteps= 20000, callback= callback)"
   ]
  },
  {
   "cell_type": "markdown",
   "id": "8119e0ef",
   "metadata": {},
   "source": [
    "## Test"
   ]
  },
  {
   "cell_type": "code",
   "execution_count": 64,
   "id": "21ec0994",
   "metadata": {},
   "outputs": [],
   "source": [
    "agent = A2C.load(CHECKPOINT_DIR + '/model_20000', env=env)"
   ]
  },
  {
   "cell_type": "code",
   "execution_count": 56,
   "id": "db76df9c",
   "metadata": {},
   "outputs": [
    {
     "data": {
      "text/plain": [
       "(200.0, 0.0)"
      ]
     },
     "execution_count": 56,
     "metadata": {},
     "output_type": "execute_result"
    }
   ],
   "source": [
    "evaluate_policy(agent, env, n_eval_episodes=10, render=True)"
   ]
  },
  {
   "cell_type": "code",
   "execution_count": 65,
   "id": "e1bfa415",
   "metadata": {},
   "outputs": [
    {
     "name": "stdout",
     "output_type": "stream",
     "text": [
      "Episode: 0 score: 197.0\n",
      "Episode: 1 score: 37.0\n",
      "Episode: 2 score: 191.0\n",
      "Episode: 3 score: 118.0\n",
      "Episode: 4 score: 199.0\n"
     ]
    }
   ],
   "source": [
    "episodes = 5\n",
    "for episode in range(episodes):\n",
    "    state = env.reset()\n",
    "    score = 0\n",
    "    while True:\n",
    "        action, states = agent.predict(obs)\n",
    "        obs, reward, done, info = env.step(action)\n",
    "        env.render()\n",
    "        score+=reward\n",
    "        if done:\n",
    "            break\n",
    "    print('Episode: {} score: {}'.format(episode, score))"
   ]
  },
  {
   "cell_type": "markdown",
   "id": "792526cf",
   "metadata": {},
   "source": [
    "# T"
   ]
  },
  {
   "cell_type": "markdown",
   "id": "37932ee5",
   "metadata": {},
   "source": [
    "# T"
   ]
  },
  {
   "cell_type": "code",
   "execution_count": null,
   "id": "de908d53",
   "metadata": {},
   "outputs": [],
   "source": []
  }
 ],
 "metadata": {
  "kernelspec": {
   "display_name": "Python 3",
   "language": "python",
   "name": "python3"
  },
  "language_info": {
   "codemirror_mode": {
    "name": "ipython",
    "version": 3
   },
   "file_extension": ".py",
   "mimetype": "text/x-python",
   "name": "python",
   "nbconvert_exporter": "python",
   "pygments_lexer": "ipython3",
   "version": "3.7.8"
  }
 },
 "nbformat": 4,
 "nbformat_minor": 5
}
